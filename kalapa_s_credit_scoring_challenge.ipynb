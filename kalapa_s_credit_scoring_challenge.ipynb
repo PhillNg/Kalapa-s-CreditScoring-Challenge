{
  "nbformat": 4,
  "nbformat_minor": 0,
  "metadata": {
    "colab": {
      "name": "kalapa-s-credit-scoring-challenge",
      "provenance": [],
      "collapsed_sections": [],
      "authorship_tag": "ABX9TyO9FwJC+KYrG87izjR41M9d",
      "include_colab_link": true
    },
    "kernelspec": {
      "name": "python3",
      "display_name": "Python 3"
    },
    "accelerator": "GPU"
  },
  "cells": [
    {
      "cell_type": "markdown",
      "metadata": {
        "id": "view-in-github",
        "colab_type": "text"
      },
      "source": [
        "<a href=\"https://colab.research.google.com/github/PhillNg/Kalapa-s-CreditScoring-Challenge/blob/master/kalapa_s_credit_scoring_challenge.ipynb\" target=\"_parent\"><img src=\"https://colab.research.google.com/assets/colab-badge.svg\" alt=\"Open In Colab\"/></a>"
      ]
    },
    {
      "cell_type": "markdown",
      "metadata": {
        "id": "mwy55I-YihnH",
        "colab_type": "text"
      },
      "source": [
        "# **Input Data**"
      ]
    },
    {
      "cell_type": "code",
      "metadata": {
        "id": "9-T7sz0odoQn",
        "colab_type": "code",
        "colab": {}
      },
      "source": [
        "from google.colab import drive\n",
        "drive.mount(\"/content/drive\")"
      ],
      "execution_count": 0,
      "outputs": []
    },
    {
      "cell_type": "code",
      "metadata": {
        "id": "i0VtiNRQeA8f",
        "colab_type": "code",
        "colab": {}
      },
      "source": [
        "import os\n",
        "import math\n",
        "import numpy as np\n",
        "import pandas as pd\n",
        "import seaborn as sns\n",
        "import matplotlib.pyplot as plt\n",
        "from sklearn.preprocessing import LabelEncoder\n",
        "from sklearn import preprocessing\n",
        "from wordcloud import WordCloud"
      ],
      "execution_count": 0,
      "outputs": []
    },
    {
      "cell_type": "code",
      "metadata": {
        "colab_type": "code",
        "id": "k7HRhZythRzD",
        "colab": {}
      },
      "source": [
        "IS_LOCAL = False\n",
        "if IS_LOCAL:\n",
        "  PATH = \"C:/Data/\"\n",
        "else:\n",
        "  PATH = \"/content/drive/My Drive/Credit_Scoring_Challenge/\"\n",
        "os.listdir(PATH)"
      ],
      "execution_count": 0,
      "outputs": []
    },
    {
      "cell_type": "code",
      "metadata": {
        "id": "LVMgf322hyDO",
        "colab_type": "code",
        "colab": {}
      },
      "source": [
        "train_df = pd.read_csv(PATH+\"\"+\"train.csv\",low_memory=False, encoding='utf-8')\n",
        "test_df = pd.read_csv(PATH+\"\"+\"test.csv\",low_memory=False, encoding='utf-8')"
      ],
      "execution_count": 0,
      "outputs": []
    },
    {
      "cell_type": "markdown",
      "metadata": {
        "id": "tccq99XTizSN",
        "colab_type": "text"
      },
      "source": [
        "# **Data Exploration**"
      ]
    },
    {
      "cell_type": "code",
      "metadata": {
        "id": "pJqF4NKkVj70",
        "colab_type": "code",
        "colab": {}
      },
      "source": [
        "train_df.head()"
      ],
      "execution_count": 0,
      "outputs": []
    },
    {
      "cell_type": "code",
      "metadata": {
        "id": "7UmWyPENVnRr",
        "colab_type": "code",
        "colab": {}
      },
      "source": [
        "test_df.head()"
      ],
      "execution_count": 0,
      "outputs": []
    },
    {
      "cell_type": "code",
      "metadata": {
        "id": "xXAtmgy6VUMu",
        "colab_type": "code",
        "colab": {}
      },
      "source": [
        "# some settings for displaying Pandas results\n",
        "pd.set_option('display.width', 2000)\n",
        "pd.set_option('display.max_rows', 500)\n",
        "pd.set_option('display.max_columns', 500)\n",
        "pd.set_option('display.precision', 4)\n",
        "pd.set_option('display.max_colwidth', -1)"
      ],
      "execution_count": 0,
      "outputs": []
    },
    {
      "cell_type": "code",
      "metadata": {
        "id": "64bD65mfjZaO",
        "colab_type": "code",
        "colab": {}
      },
      "source": [
        "def exploring_stats(pdf_input):\n",
        "    # check rows, cols\n",
        "    total_records = pdf_input.shape[0]\n",
        "    total_columns = pdf_input.shape[1]\n",
        "    print(\"Total records:\", total_records)\n",
        "    print(\"Total columns:\", total_columns)\n",
        "\n",
        "    # check dtypes\n",
        "    name = []\n",
        "    sub_type = []\n",
        "    for n, t in pdf_input.dtypes.iteritems():\n",
        "        name.append(n)\n",
        "        sub_type.append(t)\n",
        "\n",
        "    # check distinct\n",
        "    ls_ndist = []\n",
        "    for cname in pdf_input.columns:\n",
        "        ndist = pdf_input[cname].nunique()\n",
        "        pct_dist = ndist * 100.0 / total_records\n",
        "        ls_ndist.append(\"{} ({:0.2f}%)\".format(ndist, pct_dist))\n",
        "\n",
        "    # check missing\n",
        "    ls_nmiss = []\n",
        "    for cname in pdf_input.columns:\n",
        "        nmiss = pdf_input[cname].isnull().sum()\n",
        "        pct_miss = nmiss * 100.0 / total_records\n",
        "        ls_nmiss.append(\"{} ({:0.2f}%)\".format(nmiss, pct_miss))\n",
        "\n",
        "    # check zeros\n",
        "    ls_zeros = []\n",
        "    for cname in pdf_input.columns:\n",
        "        try:\n",
        "            nzeros = (pdf_input[cname] == 0).sum()\n",
        "            pct_zeros = nzeros * 100.0 / total_records\n",
        "            ls_zeros.append(\"{} ({:0.2f}%)\".format(nzeros, pct_zeros))\n",
        "        except:\n",
        "            ls_zeros.append(\"{} ({:0.2f}%)\".format(0, 0))\n",
        "            continue\n",
        "\n",
        "    # check negative\n",
        "    ls_neg = []\n",
        "    for cname in pdf_input.columns:\n",
        "        try:\n",
        "            nneg = (pdf_input[cname].astype(\"float\") < 0).sum()\n",
        "            pct_neg = nneg * 100.0 / total_records\n",
        "            ls_neg.append(\"{} ({:0.2f}%)\".format(nneg, pct_neg))\n",
        "        except:\n",
        "            ls_neg.append(\"{} ({:0.2f}%)\".format(0, 0))\n",
        "            continue\n",
        "\n",
        "    # prepare output\n",
        "    data = {\n",
        "        \"name\": name,\n",
        "        \"sub_type\": sub_type,\n",
        "        \"n_distinct\": ls_ndist,\n",
        "        \"n_miss\": ls_nmiss,\n",
        "        \"n_zeros\": ls_zeros,\n",
        "        \"n_negative\": ls_neg,\n",
        "    }\n",
        "\n",
        "    # check stats\n",
        "    pdf_stats = pdf_input.describe().transpose()\n",
        "    ls_stats = []\n",
        "    for stat in pdf_stats.columns:\n",
        "        data[stat] = []\n",
        "        for cname in pdf_input.columns:\n",
        "            try:\n",
        "                data[stat].append(pdf_stats.loc[cname, stat])\n",
        "            except:\n",
        "                data[stat].append(0.0)\n",
        "\n",
        "    # take samples\n",
        "    nsample = 10\n",
        "    pdf_sample = pdf_input.sample(frac=.5).head(nsample).transpose()\n",
        "    pdf_sample.columns = [\"sample_{}\".format(i) for i in range(nsample)]\n",
        "\n",
        "    # output\n",
        "    col_ordered = [\"sub_type\", \"n_distinct\", \"n_miss\", \"n_negative\", \"n_zeros\",\n",
        "                   \"25%\", \"50%\", \"75%\", \"count\", \"max\", \"mean\", \"min\", \"std\"] + list(pdf_sample.columns)\n",
        "    pdf_data = pd.DataFrame(data).set_index(\"name\")\n",
        "    pdf_data = pd.concat([pdf_data, pdf_sample], axis=1)\n",
        "    pdf_data = pdf_data[col_ordered]\n",
        "    \n",
        "    return pdf_data"
      ],
      "execution_count": 0,
      "outputs": []
    },
    {
      "cell_type": "code",
      "metadata": {
        "id": "dEjYYXOljndN",
        "colab_type": "code",
        "colab": {}
      },
      "source": [
        "# %%time\n",
        "# build data missing reports\n",
        "train_report = exploring_stats(train_df)\n",
        "test_report = exploring_stats(test_df)"
      ],
      "execution_count": 0,
      "outputs": []
    },
    {
      "cell_type": "code",
      "metadata": {
        "id": "B9Ny_9DXj-m9",
        "colab_type": "code",
        "colab": {}
      },
      "source": [
        " %%time\n",
        " # save reports\n",
        " train_report.to_csv(PATH+\"\"+\"train_report.csv\",encoding='utf-8')\n",
        " test_report.to_csv(PATH+\"\"+\"test_report.csv\",encoding='utf-8')"
      ],
      "execution_count": 0,
      "outputs": []
    },
    {
      "cell_type": "code",
      "metadata": {
        "id": "3JN8loWKOK6D",
        "colab_type": "code",
        "colab": {}
      },
      "source": [
        "train_report = pd.read_csv(PATH+\"\"+\"train_report.csv\",low_memory=False, encoding='utf-8')\n",
        "test_report = pd.read_csv(PATH+\"\"+\"test_report.csv\",low_memory=False, encoding='utf-8')"
      ],
      "execution_count": 0,
      "outputs": []
    },
    {
      "cell_type": "code",
      "metadata": {
        "id": "fgRM17QDOWU7",
        "colab_type": "code",
        "colab": {}
      },
      "source": [
        "train_report.head(20)"
      ],
      "execution_count": 0,
      "outputs": []
    },
    {
      "cell_type": "markdown",
      "metadata": {
        "id": "wcZlOsiQU1qk",
        "colab_type": "text"
      },
      "source": [
        "# **Data Visualization**"
      ]
    },
    {
      "cell_type": "markdown",
      "metadata": {
        "id": "LLLWYuEoLHKz",
        "colab_type": "text"
      },
      "source": [
        "### Visualize functions"
      ]
    },
    {
      "cell_type": "code",
      "metadata": {
        "id": "b6StqnKH-Lxq",
        "colab_type": "code",
        "colab": {}
      },
      "source": [
        "# Apply lowercase to a column in Pandas dataframe\n",
        "def to_lower_case(item):\n",
        "    return item.map(lambda x: x if type(x)!=str else x.lower())\n",
        "\n",
        "train_df[\"province\"] = to_lower_case(train_df['province'])\n",
        "train_df[\"district\"] = to_lower_case(train_df['district'])\n",
        "train_df[\"maCv\"] = to_lower_case(train_df['maCv'])"
      ],
      "execution_count": 0,
      "outputs": []
    },
    {
      "cell_type": "code",
      "metadata": {
        "id": "nLuQPJZURoQe",
        "colab_type": "code",
        "colab": {}
      },
      "source": [
        "# Making data synchronization\n",
        "def replace_data(data,key,values):\n",
        "  for index, value in enumerate(data):\n",
        "    if key in str(value):\n",
        "      data[index] = values\n",
        "    elif not str(value):\n",
        "      data[index] = data[index]\n",
        "  return data\n",
        "\n",
        "replace_data(train_df[\"maCv\"],'công nhân','cn')\n",
        "replace_data(train_df[\"maCv\"],'cong nhan','cn')\n",
        "replace_data(train_df[\"maCv\"],'cn','cn')\n",
        "replace_data(train_df[\"maCv\"],'thợ','cn')\n",
        "replace_data(train_df[\"maCv\"],'nhân viên','nv')\n",
        "replace_data(train_df[\"maCv\"],'nhân viện','nv')\n",
        "replace_data(train_df[\"maCv\"],'nhan vien','nv')\n",
        "replace_data(train_df[\"maCv\"],'trưởng phòng','nv')\n",
        "replace_data(train_df[\"maCv\"],'kế toán','nv')\n",
        "replace_data(train_df[\"maCv\"],'phó phòng','nv')\n",
        "replace_data(train_df[\"maCv\"],'ngân hàng','nv')\n",
        "replace_data(train_df[\"maCv\"],'lái xe','nvnv')\n",
        "replace_data(train_df[\"maCv\"],'chuyên viên','nv')\n",
        "replace_data(train_df[\"maCv\"],'chuyen vien','nv')\n",
        "replace_data(train_df[\"maCv\"],'nv','nv')\n",
        "replace_data(train_df[\"maCv\"],'giáo viên','gv')\n",
        "replace_data(train_df[\"maCv\"],'giao vien','gv')\n",
        "replace_data(train_df[\"maCv\"],'hiệu trưởng','gv')\n",
        "replace_data(train_df[\"maCv\"],'gv','gv')\n",
        "replace_data(train_df[\"maCv\"],'cán bộ','cb')\n",
        "replace_data(train_df[\"maCv\"],'cb','cb')\n",
        "replace_data(train_df[\"maCv\"],'can bo','cb')\n",
        "replace_data(train_df[\"maCv\"],'lãnh đạo','cb')\n",
        "replace_data(train_df[\"maCv\"],'lanh dao','cb')\n",
        "replace_data(train_df[\"maCv\"],'phó giám đốc','cb')\n",
        "replace_data(train_df[\"maCv\"],'giám đốc','cb')\n",
        "replace_data(train_df[\"maCv\"],'phó','cb')\n",
        "replace_data(train_df[\"maCv\"],'bác sỹ','cb')\n",
        "replace_data(train_df[\"maCv\"],'bác sĩ','cb')\n",
        "replace_data(train_df[\"maCv\"],'y sĩ','cb')\n",
        "replace_data(train_df[\"maCv\"],'chủ tịch','cb')\n",
        "replace_data(train_df[\"maCv\"],'công an','cb')"
      ],
      "execution_count": 0,
      "outputs": []
    },
    {
      "cell_type": "code",
      "metadata": {
        "id": "xxI9rsJNajql",
        "colab_type": "code",
        "colab": {}
      },
      "source": [
        "encoder = preprocessing.LabelEncoder()\n",
        "train_df[\"province\"] = encoder.fit_transform(train_df[\"province\"].fillna('missing'))\n",
        "train_df[\"district\"] = encoder.fit_transform(train_df[\"district\"].fillna('missing'))\n",
        "train_df.head()"
      ],
      "execution_count": 0,
      "outputs": []
    },
    {
      "cell_type": "code",
      "metadata": {
        "id": "8MPvY-PsMz0_",
        "colab_type": "code",
        "colab": {}
      },
      "source": [
        "# \n",
        "def grid_bar_charts(pdf, ls_cname, ncols = 3):\n",
        "    \"\"\"\n",
        "    Vẽ nhiều bar chart cho các thuộc tính được xếp vào grid\n",
        "    Cho số lượng grid column, ta sẽ fill out bar chart cho từng cell của grid\n",
        "    \"\"\"\n",
        "    \n",
        "    # tính số dòng cần cho grid\n",
        "    n_cat = len(ls_cname)    \n",
        "    nrows = int(math.ceil(n_cat * 1.0 / ncols))\n",
        "\n",
        "    # khởi tạo figure gồm nrows * ncols cho grid\n",
        "    fig, axes = plt.subplots(nrows=nrows, ncols=ncols, figsize=(15, 3 * nrows))\n",
        "    \n",
        "    # dùng tuỳ chọn này để các chart được rời nhau\n",
        "    fig.set_tight_layout(False)\n",
        "    \n",
        "    # fill out grid\n",
        "    for i in range(nrows):\n",
        "        for j in range(ncols):\n",
        "            # xác định vị trí tên column trong danh sách dựa vào (i, j, ncols)\n",
        "            idx = i * ncols + j\n",
        "            \n",
        "            # khi plot hết thì dừng\n",
        "            if idx == n_cat:\n",
        "                break\n",
        "                \n",
        "            # lấy tên column cần plot\n",
        "            cname = ls_cname[idx]\n",
        "            s00 = pdf[~pdf[cname].isna()]\n",
        "            s00 = s00.groupby(cname).size()\n",
        "            \n",
        "            # sắp giá trị giảm dần trước khi plot\n",
        "            s00.sort_values(ascending=False).plot.bar(ax=axes[i][j], rot=45)\n",
        "\n",
        "    # plot grid\n",
        "    plt.tight_layout()\n",
        "    plt.show()\n",
        "    \n",
        "#     \n",
        "def plot_wordcloud(pdf, ls_cname):\n",
        "    \"\"\"\n",
        "    Vẽ wordcloud cho biến có nhiều giá trị categories\n",
        "    \"\"\"\n",
        "    \n",
        "    for cname in ls_cname:\n",
        "        # get sequence of types\n",
        "        s00 = pdf[~pdf[cname].isna()][cname]\n",
        "        text = \" \".join(s00.astype(str).tolist())\n",
        "\n",
        "        # generate wordcloud\n",
        "        wordcloud = WordCloud(background_color=\"white\", width=1600, height=800).generate(text)\n",
        "\n",
        "        # \n",
        "        fig, ax = plt.subplots(figsize=(15, 15))\n",
        "        fig.set_tight_layout(False)\n",
        "        \n",
        "        # plot wordcloud\n",
        "        ax.imshow(wordcloud, interpolation=\"bilinear\")\n",
        "        ax.axis(\"off\")\n",
        "        ax.set_title(\"Word cloud of {}\".format(cname), fontsize=20)\n",
        "        \n",
        "        #\n",
        "        plt.tight_layout()\n",
        "        plt.show()    \n",
        "        \n",
        "# \n",
        "def grid_histogram(pdf, ls_cname, ncols = 3):\n",
        "    \"\"\"\n",
        "    Vẽ nhiều histogram cho các thuộc tính được xếp vào grid\n",
        "    Cho số lượng grid column, ta sẽ fill out histogram cho từng cell của grid\n",
        "    \"\"\"\n",
        "    \n",
        "    # tính số dòng cần cho grid\n",
        "    n_cat = len(ls_cname)    \n",
        "    nrows = int(math.ceil(n_cat * 1.0 / ncols))\n",
        "\n",
        "    # khởi tạo figure gồm nrows * ncols cho grid\n",
        "    fig, axes = plt.subplots(nrows=nrows, ncols=ncols, figsize=(15, 4 * nrows))\n",
        "    \n",
        "    # dùng tuỳ chọn này để các chart được rời nhau\n",
        "    fig.set_tight_layout(False)\n",
        "    \n",
        "    # fill out grid\n",
        "    for i in range(nrows):\n",
        "        for j in range(ncols):\n",
        "            \n",
        "            # xác định vị trí tên column trong danh sách dựa vào (i, j, ncols)\n",
        "            idx = i * ncols + j\n",
        "            \n",
        "            # khi plot hết thì dừng\n",
        "            if idx == n_cat:\n",
        "                break\n",
        "                \n",
        "            cname = ls_cname[idx]\n",
        "            s00 = pdf[~pdf[cname].isna()][cname]\n",
        "            s00.plot(kind=\"hist\", ax=axes[i][j], rot=45, title=cname)\n",
        "            \n",
        "    plt.tight_layout()\n",
        "    plt.show()        \n",
        "    \n",
        "# \n",
        "def plot_continuous_data(s00, title):\n",
        "    \"\"\"\n",
        "    Quan sát continuous data bằng histogram và boxplot\n",
        "    \"\"\"\n",
        "    \n",
        "    # khởi tạo figure\n",
        "    fig, (ax1, ax2) = plt.subplots(nrows=1, ncols=2, figsize=(10, 5))\n",
        "    \n",
        "    # plot\n",
        "    s00.hist(bins=30, ax=ax1)\n",
        "    s00.plot.box(ax=ax2)\n",
        "    \n",
        "    #\n",
        "    plt.suptitle(title)\n",
        "    plt.show()\n"
      ],
      "execution_count": 0,
      "outputs": []
    },
    {
      "cell_type": "markdown",
      "metadata": {
        "id": "cbXwiRg6NLes",
        "colab_type": "text"
      },
      "source": [
        "### Visualize for categorical data"
      ]
    },
    {
      "cell_type": "code",
      "metadata": {
        "id": "KoKsadF6NRA7",
        "colab_type": "code",
        "colab": {}
      },
      "source": [
        "# check categorical data attributes\n",
        "ls_cat_name = train_report[train_report[\"sub_type\"] == \"object\"][\"name\"].tolist()\n",
        "ls_cat_name"
      ],
      "execution_count": 0,
      "outputs": []
    },
    {
      "cell_type": "code",
      "metadata": {
        "id": "MoI_PjFWPDQz",
        "colab_type": "code",
        "colab": {}
      },
      "source": [
        "# if number of category is small we could use bar chart, otherwise use cloud chart\n",
        "pdf_meta00 = train_report[train_report[\"name\"].isin(ls_cat_name)][[\"name\", \"n_distinct\"]]\n",
        "pdf_meta00[\"chart\"] = pdf_meta00[\"n_distinct\"].apply(lambda x: \"wordcloud\" if int(x.split()[0]) > 10 else \"bar\")\n",
        "pdf_meta00"
      ],
      "execution_count": 0,
      "outputs": []
    },
    {
      "cell_type": "code",
      "metadata": {
        "id": "8PaRaGLRPY9f",
        "colab_type": "code",
        "colab": {}
      },
      "source": [
        "ls_cat_bar = pdf_meta00.query(\"chart == 'bar'\")[\"name\"].tolist()\n",
        "grid_bar_charts(train_df, ls_cat_bar)"
      ],
      "execution_count": 0,
      "outputs": []
    },
    {
      "cell_type": "code",
      "metadata": {
        "id": "uYZmj14FP2By",
        "colab_type": "code",
        "colab": {}
      },
      "source": [
        "ls_cat_wordcloud = pdf_meta00.query(\"chart == 'wordcloud'\")[\"name\"].tolist()\n",
        "plot_wordcloud(train_df, ls_cat_wordcloud)"
      ],
      "execution_count": 0,
      "outputs": []
    },
    {
      "cell_type": "markdown",
      "metadata": {
        "id": "tatcWXl5QhvY",
        "colab_type": "text"
      },
      "source": [
        "### Visualization for numerical data"
      ]
    },
    {
      "cell_type": "code",
      "metadata": {
        "id": "Dr6vMH5IQusr",
        "colab_type": "code",
        "colab": {}
      },
      "source": [
        "# check numerical data attributes\n",
        "ls_num_name = train_report[train_report[\"sub_type\"] == \"int64\"][\"name\"].tolist()\n",
        "ls_num_name"
      ],
      "execution_count": 0,
      "outputs": []
    },
    {
      "cell_type": "code",
      "metadata": {
        "id": "z8I7jaxeQ83s",
        "colab_type": "code",
        "colab": {}
      },
      "source": [
        "# if number of distinct values is small we could use bar chart, otherwise use histogram\n",
        "pdf_meta00 = train_report[train_report[\"name\"].isin(ls_num_name)][[\"name\", \"n_distinct\"]]\n",
        "pdf_meta00[\"chart\"] = pdf_meta00[\"n_distinct\"].apply(lambda x: \"histogram\" if int(x.split()[0]) > 10 else \"bar\")\n",
        "pdf_meta00"
      ],
      "execution_count": 0,
      "outputs": []
    },
    {
      "cell_type": "code",
      "metadata": {
        "id": "hMj8CnZqRHfG",
        "colab_type": "code",
        "colab": {}
      },
      "source": [
        "ls_num_bar = pdf_meta00.query(\"chart == 'bar'\")[\"name\"].tolist()\n",
        "grid_bar_charts(train_df, ls_num_bar)"
      ],
      "execution_count": 0,
      "outputs": []
    },
    {
      "cell_type": "code",
      "metadata": {
        "id": "PQF4MebBROEU",
        "colab_type": "code",
        "colab": {}
      },
      "source": [
        "ls_num_hist = pdf_meta00.query(\"chart == 'histogram'\")[\"name\"].tolist()\n",
        "grid_histogram(train_df, ls_num_hist)"
      ],
      "execution_count": 0,
      "outputs": []
    },
    {
      "cell_type": "code",
      "metadata": {
        "id": "qjwRq44uRjQe",
        "colab_type": "code",
        "colab": {}
      },
      "source": [
        "# check continuous data attributes\n",
        "ls_continuous_name = train_report[train_report[\"sub_type\"] == \"float64\"][\"name\"].tolist()\n",
        "ls_continuous_name"
      ],
      "execution_count": 0,
      "outputs": []
    },
    {
      "cell_type": "code",
      "metadata": {
        "id": "Tnuio0DxRthU",
        "colab_type": "code",
        "colab": {}
      },
      "source": [
        "for cname in ls_continuous_name:\n",
        "    s00 = train_df[~train_df[cname].isna()][cname]    \n",
        "    plot_continuous_data(s00, cname)"
      ],
      "execution_count": 0,
      "outputs": []
    },
    {
      "cell_type": "markdown",
      "metadata": {
        "id": "S6r3lUStWVwP",
        "colab_type": "text"
      },
      "source": [
        "# **Feature engineering**"
      ]
    },
    {
      "cell_type": "markdown",
      "metadata": {
        "id": "n_Be0szvWnyo",
        "colab_type": "text"
      },
      "source": [
        "**“Coming up with features is difficult, time-consuming, requires expert knowledge. “Applied machine learning” is basically feature engineering.”**\n",
        "              —  Andrew Ng, Machine Learning and AI via Brain simulations"
      ]
    },
    {
      "cell_type": "markdown",
      "metadata": {
        "id": "pPNZ9l5XW1ui",
        "colab_type": "text"
      },
      "source": [
        "**“Feature engineering is the process of transforming raw data into features that better represent the underlying problem to the predictive models, resulting in improved model accuracy on unseen data.”**\n",
        "— Dr. Jason Brownlee from machinelearningmastery.com"
      ]
    },
    {
      "cell_type": "code",
      "metadata": {
        "id": "fk_UflrUWY1d",
        "colab_type": "code",
        "colab": {
          "base_uri": "https://localhost:8080/",
          "height": 583
        },
        "outputId": "8b686825-0d95-4eea-ac0a-6a200bf19324"
      },
      "source": [
        "train_report.head(10)"
      ],
      "execution_count": 25,
      "outputs": [
        {
          "output_type": "execute_result",
          "data": {
            "text/html": [
              "<div>\n",
              "<style scoped>\n",
              "    .dataframe tbody tr th:only-of-type {\n",
              "        vertical-align: middle;\n",
              "    }\n",
              "\n",
              "    .dataframe tbody tr th {\n",
              "        vertical-align: top;\n",
              "    }\n",
              "\n",
              "    .dataframe thead th {\n",
              "        text-align: right;\n",
              "    }\n",
              "</style>\n",
              "<table border=\"1\" class=\"dataframe\">\n",
              "  <thead>\n",
              "    <tr style=\"text-align: right;\">\n",
              "      <th></th>\n",
              "      <th>name</th>\n",
              "      <th>sub_type</th>\n",
              "      <th>n_distinct</th>\n",
              "      <th>n_miss</th>\n",
              "      <th>n_negative</th>\n",
              "      <th>n_zeros</th>\n",
              "      <th>25%</th>\n",
              "      <th>50%</th>\n",
              "      <th>75%</th>\n",
              "      <th>count</th>\n",
              "      <th>max</th>\n",
              "      <th>mean</th>\n",
              "      <th>min</th>\n",
              "      <th>std</th>\n",
              "      <th>sample_0</th>\n",
              "      <th>sample_1</th>\n",
              "      <th>sample_2</th>\n",
              "      <th>sample_3</th>\n",
              "      <th>sample_4</th>\n",
              "      <th>sample_5</th>\n",
              "      <th>sample_6</th>\n",
              "      <th>sample_7</th>\n",
              "      <th>sample_8</th>\n",
              "      <th>sample_9</th>\n",
              "    </tr>\n",
              "  </thead>\n",
              "  <tbody>\n",
              "    <tr>\n",
              "      <th>0</th>\n",
              "      <td>id</td>\n",
              "      <td>int64</td>\n",
              "      <td>30000 (100.00%)</td>\n",
              "      <td>0 (0.00%)</td>\n",
              "      <td>0 (0.00%)</td>\n",
              "      <td>1 (0.00%)</td>\n",
              "      <td>7499.75</td>\n",
              "      <td>14999.5</td>\n",
              "      <td>22499.25</td>\n",
              "      <td>30000.0</td>\n",
              "      <td>29999.0</td>\n",
              "      <td>14999.5000</td>\n",
              "      <td>0.0</td>\n",
              "      <td>8660.3984</td>\n",
              "      <td>29276</td>\n",
              "      <td>2141</td>\n",
              "      <td>12270</td>\n",
              "      <td>11371</td>\n",
              "      <td>17739</td>\n",
              "      <td>6186</td>\n",
              "      <td>29931</td>\n",
              "      <td>21900</td>\n",
              "      <td>12825</td>\n",
              "      <td>2428</td>\n",
              "    </tr>\n",
              "    <tr>\n",
              "      <th>1</th>\n",
              "      <td>label</td>\n",
              "      <td>int64</td>\n",
              "      <td>2 (0.01%)</td>\n",
              "      <td>0 (0.00%)</td>\n",
              "      <td>0 (0.00%)</td>\n",
              "      <td>29514 (98.38%)</td>\n",
              "      <td>0.00</td>\n",
              "      <td>0.0</td>\n",
              "      <td>0.00</td>\n",
              "      <td>30000.0</td>\n",
              "      <td>1.0</td>\n",
              "      <td>0.0162</td>\n",
              "      <td>0.0</td>\n",
              "      <td>0.1262</td>\n",
              "      <td>0</td>\n",
              "      <td>0</td>\n",
              "      <td>0</td>\n",
              "      <td>0</td>\n",
              "      <td>0</td>\n",
              "      <td>0</td>\n",
              "      <td>0</td>\n",
              "      <td>0</td>\n",
              "      <td>0</td>\n",
              "      <td>0</td>\n",
              "    </tr>\n",
              "    <tr>\n",
              "      <th>2</th>\n",
              "      <td>province</td>\n",
              "      <td>object</td>\n",
              "      <td>64 (0.21%)</td>\n",
              "      <td>12818 (42.73%)</td>\n",
              "      <td>0 (0.00%)</td>\n",
              "      <td>0 (0.00%)</td>\n",
              "      <td>0.00</td>\n",
              "      <td>0.0</td>\n",
              "      <td>0.00</td>\n",
              "      <td>0.0</td>\n",
              "      <td>0.0</td>\n",
              "      <td>0.0000</td>\n",
              "      <td>0.0</td>\n",
              "      <td>0.0000</td>\n",
              "      <td>tỉnh hà tĩnh</td>\n",
              "      <td>NaN</td>\n",
              "      <td>NaN</td>\n",
              "      <td>thành phố hà nội</td>\n",
              "      <td>tỉnh phú yên</td>\n",
              "      <td>NaN</td>\n",
              "      <td>NaN</td>\n",
              "      <td>tỉnh phú thọ</td>\n",
              "      <td>tỉnh đồng nai</td>\n",
              "      <td>NaN</td>\n",
              "    </tr>\n",
              "    <tr>\n",
              "      <th>3</th>\n",
              "      <td>district</td>\n",
              "      <td>object</td>\n",
              "      <td>717 (2.39%)</td>\n",
              "      <td>12849 (42.83%)</td>\n",
              "      <td>0 (0.00%)</td>\n",
              "      <td>0 (0.00%)</td>\n",
              "      <td>0.00</td>\n",
              "      <td>0.0</td>\n",
              "      <td>0.00</td>\n",
              "      <td>0.0</td>\n",
              "      <td>0.0</td>\n",
              "      <td>0.0000</td>\n",
              "      <td>0.0</td>\n",
              "      <td>0.0000</td>\n",
              "      <td>huyện thạch hà</td>\n",
              "      <td>NaN</td>\n",
              "      <td>NaN</td>\n",
              "      <td>huyện mỹ đức</td>\n",
              "      <td>huyện tuy an</td>\n",
              "      <td>NaN</td>\n",
              "      <td>NaN</td>\n",
              "      <td>huyện đoan hùng</td>\n",
              "      <td>thành phố biên hòa</td>\n",
              "      <td>NaN</td>\n",
              "    </tr>\n",
              "    <tr>\n",
              "      <th>4</th>\n",
              "      <td>age_source1</td>\n",
              "      <td>float64</td>\n",
              "      <td>64 (0.21%)</td>\n",
              "      <td>12811 (42.70%)</td>\n",
              "      <td>0 (0.00%)</td>\n",
              "      <td>4 (0.01%)</td>\n",
              "      <td>26.00</td>\n",
              "      <td>31.0</td>\n",
              "      <td>39.00</td>\n",
              "      <td>17189.0</td>\n",
              "      <td>71.0</td>\n",
              "      <td>33.0410</td>\n",
              "      <td>0.0</td>\n",
              "      <td>9.1877</td>\n",
              "      <td>32.0</td>\n",
              "      <td>NaN</td>\n",
              "      <td>NaN</td>\n",
              "      <td>33.0</td>\n",
              "      <td>31.0</td>\n",
              "      <td>NaN</td>\n",
              "      <td>NaN</td>\n",
              "      <td>33.0</td>\n",
              "      <td>41.0</td>\n",
              "      <td>NaN</td>\n",
              "    </tr>\n",
              "    <tr>\n",
              "      <th>5</th>\n",
              "      <td>age_source2</td>\n",
              "      <td>float64</td>\n",
              "      <td>69 (0.23%)</td>\n",
              "      <td>9678 (32.26%)</td>\n",
              "      <td>1 (0.00%)</td>\n",
              "      <td>0 (0.00%)</td>\n",
              "      <td>26.00</td>\n",
              "      <td>31.0</td>\n",
              "      <td>38.00</td>\n",
              "      <td>20322.0</td>\n",
              "      <td>89.0</td>\n",
              "      <td>32.8720</td>\n",
              "      <td>-1.0</td>\n",
              "      <td>9.0962</td>\n",
              "      <td>32.0</td>\n",
              "      <td>41.0</td>\n",
              "      <td>NaN</td>\n",
              "      <td>33.0</td>\n",
              "      <td>31.0</td>\n",
              "      <td>NaN</td>\n",
              "      <td>NaN</td>\n",
              "      <td>33.0</td>\n",
              "      <td>41.0</td>\n",
              "      <td>32.0</td>\n",
              "    </tr>\n",
              "    <tr>\n",
              "      <th>6</th>\n",
              "      <td>maCv</td>\n",
              "      <td>object</td>\n",
              "      <td>561 (1.87%)</td>\n",
              "      <td>9679 (32.26%)</td>\n",
              "      <td>0 (0.00%)</td>\n",
              "      <td>0 (0.00%)</td>\n",
              "      <td>0.00</td>\n",
              "      <td>0.0</td>\n",
              "      <td>0.00</td>\n",
              "      <td>0.0</td>\n",
              "      <td>0.0</td>\n",
              "      <td>0.0000</td>\n",
              "      <td>0.0</td>\n",
              "      <td>0.0000</td>\n",
              "      <td>cb</td>\n",
              "      <td>none</td>\n",
              "      <td>NaN</td>\n",
              "      <td>cn</td>\n",
              "      <td>nv</td>\n",
              "      <td>NaN</td>\n",
              "      <td>NaN</td>\n",
              "      <td>cn</td>\n",
              "      <td>none</td>\n",
              "      <td>none</td>\n",
              "    </tr>\n",
              "    <tr>\n",
              "      <th>7</th>\n",
              "      <td>FIELD_1</td>\n",
              "      <td>int64</td>\n",
              "      <td>2 (0.01%)</td>\n",
              "      <td>0 (0.00%)</td>\n",
              "      <td>0 (0.00%)</td>\n",
              "      <td>6740 (22.47%)</td>\n",
              "      <td>1.00</td>\n",
              "      <td>1.0</td>\n",
              "      <td>1.00</td>\n",
              "      <td>30000.0</td>\n",
              "      <td>1.0</td>\n",
              "      <td>0.7753</td>\n",
              "      <td>0.0</td>\n",
              "      <td>0.4174</td>\n",
              "      <td>1</td>\n",
              "      <td>1</td>\n",
              "      <td>1</td>\n",
              "      <td>1</td>\n",
              "      <td>1</td>\n",
              "      <td>1</td>\n",
              "      <td>1</td>\n",
              "      <td>1</td>\n",
              "      <td>1</td>\n",
              "      <td>1</td>\n",
              "    </tr>\n",
              "    <tr>\n",
              "      <th>8</th>\n",
              "      <td>FIELD_2</td>\n",
              "      <td>float64</td>\n",
              "      <td>2 (0.01%)</td>\n",
              "      <td>463 (1.54%)</td>\n",
              "      <td>0 (0.00%)</td>\n",
              "      <td>6996 (23.32%)</td>\n",
              "      <td>1.00</td>\n",
              "      <td>1.0</td>\n",
              "      <td>1.00</td>\n",
              "      <td>29537.0</td>\n",
              "      <td>1.0</td>\n",
              "      <td>0.7631</td>\n",
              "      <td>0.0</td>\n",
              "      <td>0.4252</td>\n",
              "      <td>1.0</td>\n",
              "      <td>1.0</td>\n",
              "      <td>1.0</td>\n",
              "      <td>1.0</td>\n",
              "      <td>1.0</td>\n",
              "      <td>NaN</td>\n",
              "      <td>0.0</td>\n",
              "      <td>1.0</td>\n",
              "      <td>1.0</td>\n",
              "      <td>1.0</td>\n",
              "    </tr>\n",
              "    <tr>\n",
              "      <th>9</th>\n",
              "      <td>FIELD_3</td>\n",
              "      <td>float64</td>\n",
              "      <td>513 (1.71%)</td>\n",
              "      <td>463 (1.54%)</td>\n",
              "      <td>6996 (23.32%)</td>\n",
              "      <td>0 (0.00%)</td>\n",
              "      <td>343.00</td>\n",
              "      <td>1452.0</td>\n",
              "      <td>2913.00</td>\n",
              "      <td>29537.0</td>\n",
              "      <td>8037.0</td>\n",
              "      <td>1731.2635</td>\n",
              "      <td>-1.0</td>\n",
              "      <td>1472.5374</td>\n",
              "      <td>711.0</td>\n",
              "      <td>729.0</td>\n",
              "      <td>349.0</td>\n",
              "      <td>346.0</td>\n",
              "      <td>711.0</td>\n",
              "      <td>NaN</td>\n",
              "      <td>-1.0</td>\n",
              "      <td>2898.0</td>\n",
              "      <td>2903.0</td>\n",
              "      <td>4009.0</td>\n",
              "    </tr>\n",
              "  </tbody>\n",
              "</table>\n",
              "</div>"
            ],
            "text/plain": [
              "          name sub_type       n_distinct          n_miss     n_negative         n_zeros      25%      50%       75%    count      max        mean  min        std        sample_0 sample_1 sample_2          sample_3      sample_4 sample_5 sample_6         sample_7            sample_8 sample_9\n",
              "0  id           int64    30000 (100.00%)  0 (0.00%)       0 (0.00%)      1 (0.00%)       7499.75  14999.5  22499.25  30000.0  29999.0  14999.5000  0.0  8660.3984  29276           2141     12270    11371             17739         6186     29931    21900            12825               2428   \n",
              "1  label        int64    2 (0.01%)        0 (0.00%)       0 (0.00%)      29514 (98.38%)  0.00     0.0      0.00      30000.0  1.0      0.0162      0.0  0.1262     0               0        0        0                 0             0        0        0                0                   0      \n",
              "2  province     object   64 (0.21%)       12818 (42.73%)  0 (0.00%)      0 (0.00%)       0.00     0.0      0.00      0.0      0.0      0.0000      0.0  0.0000     tỉnh hà tĩnh    NaN      NaN      thành phố hà nội  tỉnh phú yên  NaN      NaN      tỉnh phú thọ     tỉnh đồng nai       NaN    \n",
              "3  district     object   717 (2.39%)      12849 (42.83%)  0 (0.00%)      0 (0.00%)       0.00     0.0      0.00      0.0      0.0      0.0000      0.0  0.0000     huyện thạch hà  NaN      NaN      huyện mỹ đức      huyện tuy an  NaN      NaN      huyện đoan hùng  thành phố biên hòa  NaN    \n",
              "4  age_source1  float64  64 (0.21%)       12811 (42.70%)  0 (0.00%)      4 (0.01%)       26.00    31.0     39.00     17189.0  71.0     33.0410     0.0  9.1877     32.0            NaN      NaN      33.0              31.0          NaN      NaN      33.0             41.0                NaN    \n",
              "5  age_source2  float64  69 (0.23%)       9678 (32.26%)   1 (0.00%)      0 (0.00%)       26.00    31.0     38.00     20322.0  89.0     32.8720    -1.0  9.0962     32.0            41.0     NaN      33.0              31.0          NaN      NaN      33.0             41.0                32.0   \n",
              "6  maCv         object   561 (1.87%)      9679 (32.26%)   0 (0.00%)      0 (0.00%)       0.00     0.0      0.00      0.0      0.0      0.0000      0.0  0.0000     cb              none     NaN      cn                nv            NaN      NaN      cn               none                none   \n",
              "7  FIELD_1      int64    2 (0.01%)        0 (0.00%)       0 (0.00%)      6740 (22.47%)   1.00     1.0      1.00      30000.0  1.0      0.7753      0.0  0.4174     1               1        1        1                 1             1        1        1                1                   1      \n",
              "8  FIELD_2      float64  2 (0.01%)        463 (1.54%)     0 (0.00%)      6996 (23.32%)   1.00     1.0      1.00      29537.0  1.0      0.7631      0.0  0.4252     1.0             1.0      1.0      1.0               1.0           NaN      0.0      1.0              1.0                 1.0    \n",
              "9  FIELD_3      float64  513 (1.71%)      463 (1.54%)     6996 (23.32%)  0 (0.00%)       343.00   1452.0   2913.00   29537.0  8037.0   1731.2635  -1.0  1472.5374  711.0           729.0    349.0    346.0             711.0         NaN      -1.0     2898.0           2903.0              4009.0 "
            ]
          },
          "metadata": {
            "tags": []
          },
          "execution_count": 25
        }
      ]
    }
  ]
}